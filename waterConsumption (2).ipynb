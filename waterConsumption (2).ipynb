{
 "cells": [
  {
   "cell_type": "code",
   "execution_count": null,
   "id": "cd1ff896-726c-45d1-862f-7643c24c4b24",
   "metadata": {
    "scrolled": true
   },
   "outputs": [],
   "source": [
    "pip install pandas numpy tensorflow scikit-learn matplotlib --user\n"
   ]
  },
  {
   "cell_type": "code",
   "execution_count": 1,
   "id": "7cb26f70-081d-42b6-b630-5340b4154844",
   "metadata": {},
   "outputs": [],
   "source": [
    "import pandas as pd\n",
    "import numpy as np\n",
    "import tensorflow as tf\n",
    "from tensorflow.keras.models import Sequential\n",
    "from tensorflow.keras.layers import Dense\n",
    "from tensorflow.keras.layers import Input\n",
    "\n",
    "from tensorflow.keras.callbacks import LearningRateScheduler\n",
    "from sklearn.model_selection import train_test_split\n",
    "# from sklearn.preprocessing import MinMaxScaler\n",
    "from sklearn.preprocessing import StandardScaler\n",
    "import matplotlib.pyplot as plt\n",
    "from sklearn.metrics import r2_score\n"
   ]
  },
  {
   "cell_type": "markdown",
   "id": "8a31c149-27b7-489b-b220-d15f5d70b046",
   "metadata": {},
   "source": [
    " Bring a dataset relevant to the project idea domain"
   ]
  },
  {
   "cell_type": "code",
   "execution_count": 2,
   "id": "4722b0b2-b469-4c06-bdec-04fe600c2c6a",
   "metadata": {},
   "outputs": [],
   "source": [
    "df = pd.read_csv('Water_Consumption_Prediction.csv')\n"
   ]
  },
  {
   "cell_type": "code",
   "execution_count": 3,
   "id": "fe38f536-c0ce-4484-84c2-477c7175d45b",
   "metadata": {
    "scrolled": true
   },
   "outputs": [
    {
     "data": {
      "text/html": [
       "<div>\n",
       "<style scoped>\n",
       "    .dataframe tbody tr th:only-of-type {\n",
       "        vertical-align: middle;\n",
       "    }\n",
       "\n",
       "    .dataframe tbody tr th {\n",
       "        vertical-align: top;\n",
       "    }\n",
       "\n",
       "    .dataframe thead th {\n",
       "        text-align: right;\n",
       "    }\n",
       "</style>\n",
       "<table border=\"1\" class=\"dataframe\">\n",
       "  <thead>\n",
       "    <tr style=\"text-align: right;\">\n",
       "      <th></th>\n",
       "      <th>Date</th>\n",
       "      <th>Household_ID</th>\n",
       "      <th>Number_of_Residents</th>\n",
       "      <th>Average_Temperature</th>\n",
       "      <th>Rainfall(mm)</th>\n",
       "      <th>Season</th>\n",
       "      <th>Day_of_week</th>\n",
       "      <th>Income_Level</th>\n",
       "      <th>Is_Meter_Functioning</th>\n",
       "      <th>Building_Area(sq_meters)</th>\n",
       "      <th>Water_Saving_Tips_Adopted</th>\n",
       "      <th>WaterConsumption(Liters)</th>\n",
       "    </tr>\n",
       "  </thead>\n",
       "  <tbody>\n",
       "    <tr>\n",
       "      <th>0</th>\n",
       "      <td>2022-01-01</td>\n",
       "      <td>H5494</td>\n",
       "      <td>9</td>\n",
       "      <td>38.185856</td>\n",
       "      <td>5.504344</td>\n",
       "      <td>Winter</td>\n",
       "      <td>Monday</td>\n",
       "      <td>Low</td>\n",
       "      <td>False</td>\n",
       "      <td>158.743045</td>\n",
       "      <td>0</td>\n",
       "      <td>426.634889</td>\n",
       "    </tr>\n",
       "    <tr>\n",
       "      <th>1</th>\n",
       "      <td>2022-01-02</td>\n",
       "      <td>H1942</td>\n",
       "      <td>1</td>\n",
       "      <td>12.687502</td>\n",
       "      <td>14.359086</td>\n",
       "      <td>Summer</td>\n",
       "      <td>Saturday</td>\n",
       "      <td>High</td>\n",
       "      <td>False</td>\n",
       "      <td>495.135067</td>\n",
       "      <td>1</td>\n",
       "      <td>104.246279</td>\n",
       "    </tr>\n",
       "    <tr>\n",
       "      <th>2</th>\n",
       "      <td>2022-01-03</td>\n",
       "      <td>H1769</td>\n",
       "      <td>4</td>\n",
       "      <td>38.721056</td>\n",
       "      <td>NaN</td>\n",
       "      <td>Winter</td>\n",
       "      <td>Thursday</td>\n",
       "      <td>Medium</td>\n",
       "      <td>True</td>\n",
       "      <td>305.847352</td>\n",
       "      <td>1</td>\n",
       "      <td>142.489249</td>\n",
       "    </tr>\n",
       "    <tr>\n",
       "      <th>3</th>\n",
       "      <td>2022-01-04</td>\n",
       "      <td>H8934</td>\n",
       "      <td>5</td>\n",
       "      <td>29.637771</td>\n",
       "      <td>19.047242</td>\n",
       "      <td>Winter</td>\n",
       "      <td>Sunday</td>\n",
       "      <td>Medium</td>\n",
       "      <td>False</td>\n",
       "      <td>332.708919</td>\n",
       "      <td>3</td>\n",
       "      <td>212.498736</td>\n",
       "    </tr>\n",
       "    <tr>\n",
       "      <th>4</th>\n",
       "      <td>2022-01-05</td>\n",
       "      <td>H5670</td>\n",
       "      <td>4</td>\n",
       "      <td>NaN</td>\n",
       "      <td>0.123794</td>\n",
       "      <td>Autumn</td>\n",
       "      <td>Saturday</td>\n",
       "      <td>Low</td>\n",
       "      <td>True</td>\n",
       "      <td>163.769148</td>\n",
       "      <td>0</td>\n",
       "      <td>246.746020</td>\n",
       "    </tr>\n",
       "  </tbody>\n",
       "</table>\n",
       "</div>"
      ],
      "text/plain": [
       "         Date Household_ID  Number_of_Residents  Average_Temperature  \\\n",
       "0  2022-01-01        H5494                    9            38.185856   \n",
       "1  2022-01-02        H1942                    1            12.687502   \n",
       "2  2022-01-03        H1769                    4            38.721056   \n",
       "3  2022-01-04        H8934                    5            29.637771   \n",
       "4  2022-01-05        H5670                    4                  NaN   \n",
       "\n",
       "   Rainfall(mm)  Season Day_of_week Income_Level  Is_Meter_Functioning  \\\n",
       "0      5.504344  Winter      Monday          Low                 False   \n",
       "1     14.359086  Summer    Saturday         High                 False   \n",
       "2           NaN  Winter    Thursday       Medium                  True   \n",
       "3     19.047242  Winter      Sunday       Medium                 False   \n",
       "4      0.123794  Autumn    Saturday          Low                  True   \n",
       "\n",
       "   Building_Area(sq_meters)  Water_Saving_Tips_Adopted  \\\n",
       "0                158.743045                          0   \n",
       "1                495.135067                          1   \n",
       "2                305.847352                          1   \n",
       "3                332.708919                          3   \n",
       "4                163.769148                          0   \n",
       "\n",
       "   WaterConsumption(Liters)  \n",
       "0                426.634889  \n",
       "1                104.246279  \n",
       "2                142.489249  \n",
       "3                212.498736  \n",
       "4                246.746020  "
      ]
     },
     "execution_count": 3,
     "metadata": {},
     "output_type": "execute_result"
    }
   ],
   "source": [
    "df.head()\n"
   ]
  },
  {
   "cell_type": "markdown",
   "id": "4a4f6246-dc73-4a6d-bb80-193e646fd421",
   "metadata": {},
   "source": [
    " Perform data preprocessing on the dataset"
   ]
  },
  {
   "cell_type": "code",
   "execution_count": 7,
   "id": "942b31af-bfab-403b-8895-2d5f2ab1b15c",
   "metadata": {},
   "outputs": [],
   "source": [
    "# Step 1: Fill missing values in 'Average_Temperature' and 'Rainfall(mm)' with their respective means\n",
    "df['Average_Temperature'] = df['Average_Temperature'].fillna(df['Average_Temperature'].mean())\n",
    "df['Rainfall(mm)'] = df['Rainfall(mm)'].fillna(df['Rainfall(mm)'].mean())"
   ]
  },
  {
   "cell_type": "code",
   "execution_count": 9,
   "id": "f7166263-51d9-4cca-9077-9563fe9f41f9",
   "metadata": {},
   "outputs": [
    {
     "data": {
      "text/html": [
       "<div>\n",
       "<style scoped>\n",
       "    .dataframe tbody tr th:only-of-type {\n",
       "        vertical-align: middle;\n",
       "    }\n",
       "\n",
       "    .dataframe tbody tr th {\n",
       "        vertical-align: top;\n",
       "    }\n",
       "\n",
       "    .dataframe thead th {\n",
       "        text-align: right;\n",
       "    }\n",
       "</style>\n",
       "<table border=\"1\" class=\"dataframe\">\n",
       "  <thead>\n",
       "    <tr style=\"text-align: right;\">\n",
       "      <th></th>\n",
       "      <th>Date</th>\n",
       "      <th>Household_ID</th>\n",
       "      <th>Number_of_Residents</th>\n",
       "      <th>Average_Temperature</th>\n",
       "      <th>Rainfall(mm)</th>\n",
       "      <th>Season</th>\n",
       "      <th>Day_of_week</th>\n",
       "      <th>Income_Level</th>\n",
       "      <th>Is_Meter_Functioning</th>\n",
       "      <th>Building_Area(sq_meters)</th>\n",
       "      <th>Water_Saving_Tips_Adopted</th>\n",
       "      <th>WaterConsumption(Liters)</th>\n",
       "    </tr>\n",
       "  </thead>\n",
       "  <tbody>\n",
       "    <tr>\n",
       "      <th>0</th>\n",
       "      <td>2022-01-01</td>\n",
       "      <td>H5494</td>\n",
       "      <td>9</td>\n",
       "      <td>38.185856</td>\n",
       "      <td>5.504344</td>\n",
       "      <td>Winter</td>\n",
       "      <td>Monday</td>\n",
       "      <td>Low</td>\n",
       "      <td>False</td>\n",
       "      <td>158.743045</td>\n",
       "      <td>0</td>\n",
       "      <td>426.634889</td>\n",
       "    </tr>\n",
       "    <tr>\n",
       "      <th>1</th>\n",
       "      <td>2022-01-02</td>\n",
       "      <td>H1942</td>\n",
       "      <td>1</td>\n",
       "      <td>12.687502</td>\n",
       "      <td>14.359086</td>\n",
       "      <td>Summer</td>\n",
       "      <td>Saturday</td>\n",
       "      <td>High</td>\n",
       "      <td>False</td>\n",
       "      <td>495.135067</td>\n",
       "      <td>1</td>\n",
       "      <td>104.246279</td>\n",
       "    </tr>\n",
       "    <tr>\n",
       "      <th>2</th>\n",
       "      <td>2022-01-03</td>\n",
       "      <td>H1769</td>\n",
       "      <td>4</td>\n",
       "      <td>38.721056</td>\n",
       "      <td>9.962345</td>\n",
       "      <td>Winter</td>\n",
       "      <td>Thursday</td>\n",
       "      <td>Medium</td>\n",
       "      <td>True</td>\n",
       "      <td>305.847352</td>\n",
       "      <td>1</td>\n",
       "      <td>142.489249</td>\n",
       "    </tr>\n",
       "    <tr>\n",
       "      <th>3</th>\n",
       "      <td>2022-01-04</td>\n",
       "      <td>H8934</td>\n",
       "      <td>5</td>\n",
       "      <td>29.637771</td>\n",
       "      <td>19.047242</td>\n",
       "      <td>Winter</td>\n",
       "      <td>Sunday</td>\n",
       "      <td>Medium</td>\n",
       "      <td>False</td>\n",
       "      <td>332.708919</td>\n",
       "      <td>3</td>\n",
       "      <td>212.498736</td>\n",
       "    </tr>\n",
       "    <tr>\n",
       "      <th>4</th>\n",
       "      <td>2022-01-05</td>\n",
       "      <td>H5670</td>\n",
       "      <td>4</td>\n",
       "      <td>22.503904</td>\n",
       "      <td>0.123794</td>\n",
       "      <td>Autumn</td>\n",
       "      <td>Saturday</td>\n",
       "      <td>Low</td>\n",
       "      <td>True</td>\n",
       "      <td>163.769148</td>\n",
       "      <td>0</td>\n",
       "      <td>246.746020</td>\n",
       "    </tr>\n",
       "  </tbody>\n",
       "</table>\n",
       "</div>"
      ],
      "text/plain": [
       "         Date Household_ID  Number_of_Residents  Average_Temperature  \\\n",
       "0  2022-01-01        H5494                    9            38.185856   \n",
       "1  2022-01-02        H1942                    1            12.687502   \n",
       "2  2022-01-03        H1769                    4            38.721056   \n",
       "3  2022-01-04        H8934                    5            29.637771   \n",
       "4  2022-01-05        H5670                    4            22.503904   \n",
       "\n",
       "   Rainfall(mm)  Season Day_of_week Income_Level  Is_Meter_Functioning  \\\n",
       "0      5.504344  Winter      Monday          Low                 False   \n",
       "1     14.359086  Summer    Saturday         High                 False   \n",
       "2      9.962345  Winter    Thursday       Medium                  True   \n",
       "3     19.047242  Winter      Sunday       Medium                 False   \n",
       "4      0.123794  Autumn    Saturday          Low                  True   \n",
       "\n",
       "   Building_Area(sq_meters)  Water_Saving_Tips_Adopted  \\\n",
       "0                158.743045                          0   \n",
       "1                495.135067                          1   \n",
       "2                305.847352                          1   \n",
       "3                332.708919                          3   \n",
       "4                163.769148                          0   \n",
       "\n",
       "   WaterConsumption(Liters)  \n",
       "0                426.634889  \n",
       "1                104.246279  \n",
       "2                142.489249  \n",
       "3                212.498736  \n",
       "4                246.746020  "
      ]
     },
     "execution_count": 9,
     "metadata": {},
     "output_type": "execute_result"
    }
   ],
   "source": [
    "df.head()\n"
   ]
  },
  {
   "cell_type": "code",
   "execution_count": 11,
   "id": "d3e627fc-087a-4402-a2fd-476d7983aac4",
   "metadata": {
    "scrolled": true
   },
   "outputs": [],
   "source": [
    "# Explicitly define the categories for one-hot encoding\n",
    "season_categories = ['Winter', 'Summer', 'Spring', 'Autumn']\n",
    "\n",
    "# Ensure all categories are included during encoding\n",
    "df['Season'] = pd.Categorical(df['Season'], categories=season_categories)\n",
    "df = pd.get_dummies(df, columns=['Season'], prefix='Season')\n",
    "                                                                                                    \n",
    "# to convert True and False into 1 and 0 in season \n",
    "df[df.filter(like='Season').columns] = df.filter(like='Season').apply(lambda x: x.astype(int))\n",
    "# to convert True and False into 1 and 0  in Is_Meter_Functioning\n",
    "df[df.filter(like='Is_Meter_Functioning').columns] = df.filter(like='Is_Meter_Functioning').apply(lambda x: x.astype(int))\n"
   ]
  },
  {
   "cell_type": "code",
   "execution_count": 13,
   "id": "fbd4ecf5-851f-405b-8359-2cba5dc7ed6f",
   "metadata": {},
   "outputs": [],
   "source": [
    "Day_of_week_categories = ['Saturday','Sunday', 'Monday', 'Tuesday' , 'Wednesday' , 'Thursday' , 'Friday']\n",
    "\n",
    "# Ensure all categories are included during encoding\n",
    "df['Day_of_week'] = pd.Categorical(df['Day_of_week'], categories=Day_of_week_categories)\n",
    "df = pd.get_dummies(df, columns=['Day_of_week'], prefix='Day_of_week')\n",
    "df[df.filter(like='Day_of_week').columns] = df.filter(like='Day_of_week').apply(lambda x: x.astype(int))"
   ]
  },
  {
   "cell_type": "code",
   "execution_count": 15,
   "id": "443eb485-e9ac-4562-b51a-11c3f13fe487",
   "metadata": {},
   "outputs": [],
   "source": [
    "Income_Level_categories = ['Low', 'High', 'Medium']\n",
    "\n",
    "# Ensure all categories are included during encoding\n",
    "df['Income_Level'] = pd.Categorical(df['Income_Level'], categories=Income_Level_categories)\n",
    "df = pd.get_dummies(df, columns=['Income_Level'], prefix='Income_Level')\n",
    "df[df.filter(like='Income_Level').columns] = df.filter(like='Income_Level').apply(lambda x: x.astype(int))\n"
   ]
  },
  {
   "cell_type": "code",
   "execution_count": 17,
   "id": "be2d762d-edc6-41ec-90da-3fafc1dd19c3",
   "metadata": {},
   "outputs": [
    {
     "data": {
      "text/html": [
       "<div>\n",
       "<style scoped>\n",
       "    .dataframe tbody tr th:only-of-type {\n",
       "        vertical-align: middle;\n",
       "    }\n",
       "\n",
       "    .dataframe tbody tr th {\n",
       "        vertical-align: top;\n",
       "    }\n",
       "\n",
       "    .dataframe thead th {\n",
       "        text-align: right;\n",
       "    }\n",
       "</style>\n",
       "<table border=\"1\" class=\"dataframe\">\n",
       "  <thead>\n",
       "    <tr style=\"text-align: right;\">\n",
       "      <th></th>\n",
       "      <th>Date</th>\n",
       "      <th>Household_ID</th>\n",
       "      <th>Number_of_Residents</th>\n",
       "      <th>Average_Temperature</th>\n",
       "      <th>Rainfall(mm)</th>\n",
       "      <th>Is_Meter_Functioning</th>\n",
       "      <th>Building_Area(sq_meters)</th>\n",
       "      <th>Water_Saving_Tips_Adopted</th>\n",
       "      <th>WaterConsumption(Liters)</th>\n",
       "      <th>Season_Winter</th>\n",
       "      <th>...</th>\n",
       "      <th>Day_of_week_Saturday</th>\n",
       "      <th>Day_of_week_Sunday</th>\n",
       "      <th>Day_of_week_Monday</th>\n",
       "      <th>Day_of_week_Tuesday</th>\n",
       "      <th>Day_of_week_Wednesday</th>\n",
       "      <th>Day_of_week_Thursday</th>\n",
       "      <th>Day_of_week_Friday</th>\n",
       "      <th>Income_Level_Low</th>\n",
       "      <th>Income_Level_High</th>\n",
       "      <th>Income_Level_Medium</th>\n",
       "    </tr>\n",
       "  </thead>\n",
       "  <tbody>\n",
       "    <tr>\n",
       "      <th>0</th>\n",
       "      <td>2022-01-01</td>\n",
       "      <td>H5494</td>\n",
       "      <td>9</td>\n",
       "      <td>38.185856</td>\n",
       "      <td>5.504344</td>\n",
       "      <td>0</td>\n",
       "      <td>158.743045</td>\n",
       "      <td>0</td>\n",
       "      <td>426.634889</td>\n",
       "      <td>1</td>\n",
       "      <td>...</td>\n",
       "      <td>0</td>\n",
       "      <td>0</td>\n",
       "      <td>1</td>\n",
       "      <td>0</td>\n",
       "      <td>0</td>\n",
       "      <td>0</td>\n",
       "      <td>0</td>\n",
       "      <td>1</td>\n",
       "      <td>0</td>\n",
       "      <td>0</td>\n",
       "    </tr>\n",
       "    <tr>\n",
       "      <th>1</th>\n",
       "      <td>2022-01-02</td>\n",
       "      <td>H1942</td>\n",
       "      <td>1</td>\n",
       "      <td>12.687502</td>\n",
       "      <td>14.359086</td>\n",
       "      <td>0</td>\n",
       "      <td>495.135067</td>\n",
       "      <td>1</td>\n",
       "      <td>104.246279</td>\n",
       "      <td>0</td>\n",
       "      <td>...</td>\n",
       "      <td>1</td>\n",
       "      <td>0</td>\n",
       "      <td>0</td>\n",
       "      <td>0</td>\n",
       "      <td>0</td>\n",
       "      <td>0</td>\n",
       "      <td>0</td>\n",
       "      <td>0</td>\n",
       "      <td>1</td>\n",
       "      <td>0</td>\n",
       "    </tr>\n",
       "    <tr>\n",
       "      <th>2</th>\n",
       "      <td>2022-01-03</td>\n",
       "      <td>H1769</td>\n",
       "      <td>4</td>\n",
       "      <td>38.721056</td>\n",
       "      <td>9.962345</td>\n",
       "      <td>1</td>\n",
       "      <td>305.847352</td>\n",
       "      <td>1</td>\n",
       "      <td>142.489249</td>\n",
       "      <td>1</td>\n",
       "      <td>...</td>\n",
       "      <td>0</td>\n",
       "      <td>0</td>\n",
       "      <td>0</td>\n",
       "      <td>0</td>\n",
       "      <td>0</td>\n",
       "      <td>1</td>\n",
       "      <td>0</td>\n",
       "      <td>0</td>\n",
       "      <td>0</td>\n",
       "      <td>1</td>\n",
       "    </tr>\n",
       "    <tr>\n",
       "      <th>3</th>\n",
       "      <td>2022-01-04</td>\n",
       "      <td>H8934</td>\n",
       "      <td>5</td>\n",
       "      <td>29.637771</td>\n",
       "      <td>19.047242</td>\n",
       "      <td>0</td>\n",
       "      <td>332.708919</td>\n",
       "      <td>3</td>\n",
       "      <td>212.498736</td>\n",
       "      <td>1</td>\n",
       "      <td>...</td>\n",
       "      <td>0</td>\n",
       "      <td>1</td>\n",
       "      <td>0</td>\n",
       "      <td>0</td>\n",
       "      <td>0</td>\n",
       "      <td>0</td>\n",
       "      <td>0</td>\n",
       "      <td>0</td>\n",
       "      <td>0</td>\n",
       "      <td>1</td>\n",
       "    </tr>\n",
       "    <tr>\n",
       "      <th>4</th>\n",
       "      <td>2022-01-05</td>\n",
       "      <td>H5670</td>\n",
       "      <td>4</td>\n",
       "      <td>22.503904</td>\n",
       "      <td>0.123794</td>\n",
       "      <td>1</td>\n",
       "      <td>163.769148</td>\n",
       "      <td>0</td>\n",
       "      <td>246.746020</td>\n",
       "      <td>0</td>\n",
       "      <td>...</td>\n",
       "      <td>1</td>\n",
       "      <td>0</td>\n",
       "      <td>0</td>\n",
       "      <td>0</td>\n",
       "      <td>0</td>\n",
       "      <td>0</td>\n",
       "      <td>0</td>\n",
       "      <td>1</td>\n",
       "      <td>0</td>\n",
       "      <td>0</td>\n",
       "    </tr>\n",
       "  </tbody>\n",
       "</table>\n",
       "<p>5 rows × 23 columns</p>\n",
       "</div>"
      ],
      "text/plain": [
       "         Date Household_ID  Number_of_Residents  Average_Temperature  \\\n",
       "0  2022-01-01        H5494                    9            38.185856   \n",
       "1  2022-01-02        H1942                    1            12.687502   \n",
       "2  2022-01-03        H1769                    4            38.721056   \n",
       "3  2022-01-04        H8934                    5            29.637771   \n",
       "4  2022-01-05        H5670                    4            22.503904   \n",
       "\n",
       "   Rainfall(mm)  Is_Meter_Functioning  Building_Area(sq_meters)  \\\n",
       "0      5.504344                     0                158.743045   \n",
       "1     14.359086                     0                495.135067   \n",
       "2      9.962345                     1                305.847352   \n",
       "3     19.047242                     0                332.708919   \n",
       "4      0.123794                     1                163.769148   \n",
       "\n",
       "   Water_Saving_Tips_Adopted  WaterConsumption(Liters)  Season_Winter  ...  \\\n",
       "0                          0                426.634889              1  ...   \n",
       "1                          1                104.246279              0  ...   \n",
       "2                          1                142.489249              1  ...   \n",
       "3                          3                212.498736              1  ...   \n",
       "4                          0                246.746020              0  ...   \n",
       "\n",
       "   Day_of_week_Saturday  Day_of_week_Sunday  Day_of_week_Monday  \\\n",
       "0                     0                   0                   1   \n",
       "1                     1                   0                   0   \n",
       "2                     0                   0                   0   \n",
       "3                     0                   1                   0   \n",
       "4                     1                   0                   0   \n",
       "\n",
       "   Day_of_week_Tuesday  Day_of_week_Wednesday  Day_of_week_Thursday  \\\n",
       "0                    0                      0                     0   \n",
       "1                    0                      0                     0   \n",
       "2                    0                      0                     1   \n",
       "3                    0                      0                     0   \n",
       "4                    0                      0                     0   \n",
       "\n",
       "   Day_of_week_Friday  Income_Level_Low  Income_Level_High  \\\n",
       "0                   0                 1                  0   \n",
       "1                   0                 0                  1   \n",
       "2                   0                 0                  0   \n",
       "3                   0                 0                  0   \n",
       "4                   0                 1                  0   \n",
       "\n",
       "   Income_Level_Medium  \n",
       "0                    0  \n",
       "1                    0  \n",
       "2                    1  \n",
       "3                    1  \n",
       "4                    0  \n",
       "\n",
       "[5 rows x 23 columns]"
      ]
     },
     "execution_count": 17,
     "metadata": {},
     "output_type": "execute_result"
    }
   ],
   "source": [
    "df.head()"
   ]
  },
  {
   "cell_type": "code",
   "execution_count": null,
   "id": "05e37e4e-d58a-41b8-80a2-595d5fcde875",
   "metadata": {
    "scrolled": true
   },
   "outputs": [],
   "source": [
    "df.head()"
   ]
  },
  {
   "cell_type": "code",
   "execution_count": 19,
   "id": "6f7bae22-7e42-4c2b-a904-3dff31d94b48",
   "metadata": {},
   "outputs": [],
   "source": [
    "# Drop unnecessary columns\n",
    "df.drop(columns=['Date', 'Household_ID'], inplace=True)"
   ]
  },
  {
   "cell_type": "code",
   "execution_count": 21,
   "id": "ee8b4d33-529e-4ba6-a016-e4d8aee29c64",
   "metadata": {},
   "outputs": [],
   "source": [
    "df.to_csv('processed_dataset.csv', index=False)"
   ]
  },
  {
   "cell_type": "markdown",
   "id": "25a5ecfe-b841-4368-a14e-d06d1ab80015",
   "metadata": {},
   "source": [
    " Train your neural network model"
   ]
  },
  {
   "cell_type": "code",
   "execution_count": 23,
   "id": "3b2a6ae6-5432-453b-8a0a-d50adaca3f6e",
   "metadata": {},
   "outputs": [],
   "source": [
    "# Separate input features (X) and target (y)\n",
    "X = df.drop(columns=['WaterConsumption(Liters)'])\n",
    "y = df['WaterConsumption(Liters)']"
   ]
  },
  {
   "cell_type": "code",
   "execution_count": 25,
   "id": "a174ca5c-c716-47d0-b9dc-8f981e7c9e2e",
   "metadata": {},
   "outputs": [],
   "source": [
    "# Split the data into training and testing sets\n",
    "X_train, X_test, y_train, y_test = train_test_split(X, y, test_size=0.2, random_state=42)"
   ]
  },
  {
   "cell_type": "code",
   "execution_count": 27,
   "id": "b5f7300c-41cd-4a26-94e6-3897d9ced67b",
   "metadata": {},
   "outputs": [],
   "source": [
    "# Scale numerical features\n",
    "scaler = StandardScaler()\n",
    "X_train = scaler.fit_transform(X_train)\n",
    "X_test = scaler.transform(X_test)"
   ]
  },
  {
   "cell_type": "markdown",
   "id": "08d0cb80-7ef2-4743-9f2a-311e959db6f4",
   "metadata": {},
   "source": [
    "3. Deal with Learning rate schedules using callbacks"
   ]
  },
  {
   "cell_type": "code",
   "execution_count": 29,
   "id": "4086a081-e76d-4614-9ded-140970a5d914",
   "metadata": {},
   "outputs": [],
   "source": [
    "# Define the learning rate schedule function\n",
    "def lr_schedule(epoch, lr):\n",
    "    \"\"\"Learning rate schedule: reduces the learning rate after every 10 epochs.\"\"\"\n",
    "    if epoch % 10 == 0 and epoch != 0:\n",
    "        lr = lr * 0.9  # Reduce learning rate by 10% every 10 epochs\n",
    "    return lr"
   ]
  },
  {
   "cell_type": "code",
   "execution_count": 31,
   "id": "7eabbddf-765a-4e49-a801-272de30d21b9",
   "metadata": {},
   "outputs": [],
   "source": [
    "# Define the neural network model\n",
    "\n",
    "\n",
    "\n",
    "model = Sequential([\n",
    "    Input(shape=(X_train.shape[1],)),  # Specify input shape here\n",
    "    Dense(64, activation='relu'),\n",
    "    Dense(32, activation='relu'),\n",
    "    Dense(1, activation='linear')  # Output layer for regression\n",
    "])"
   ]
  },
  {
   "cell_type": "code",
   "execution_count": 33,
   "id": "ce02765a-3544-46d2-a467-3ffd7845646c",
   "metadata": {},
   "outputs": [],
   "source": [
    "# Compile the model\n",
    "model.compile(optimizer='adam', loss='mean_squared_error', metrics=['mae'])"
   ]
  },
  {
   "cell_type": "code",
   "execution_count": 35,
   "id": "e7eb4da7-802c-44a5-945a-a25cceb8bb88",
   "metadata": {},
   "outputs": [],
   "source": [
    "lr_scheduler = LearningRateScheduler(lr_schedule)"
   ]
  },
  {
   "cell_type": "code",
   "execution_count": 37,
   "id": "20c331dd-bb0e-4658-836d-ea286830e982",
   "metadata": {},
   "outputs": [
    {
     "name": "stdout",
     "output_type": "stream",
     "text": [
      "Epoch 1/50\n",
      "\u001b[1m100/100\u001b[0m \u001b[32m━━━━━━━━━━━━━━━━━━━━\u001b[0m\u001b[37m\u001b[0m \u001b[1m8s\u001b[0m 6ms/step - loss: 112892.2266 - mae: 288.1035 - val_loss: 106917.1562 - val_mae: 274.8055 - learning_rate: 0.0010\n",
      "Epoch 2/50\n",
      "\u001b[1m100/100\u001b[0m \u001b[32m━━━━━━━━━━━━━━━━━━━━\u001b[0m\u001b[37m\u001b[0m \u001b[1m0s\u001b[0m 3ms/step - loss: 99569.3281 - mae: 264.2652 - val_loss: 59166.1914 - val_mae: 194.6310 - learning_rate: 0.0010\n",
      "Epoch 3/50\n",
      "\u001b[1m100/100\u001b[0m \u001b[32m━━━━━━━━━━━━━━━━━━━━\u001b[0m\u001b[37m\u001b[0m \u001b[1m0s\u001b[0m 3ms/step - loss: 41153.8359 - mae: 161.6108 - val_loss: 10883.6475 - val_mae: 85.4179 - learning_rate: 0.0010\n",
      "Epoch 4/50\n",
      "\u001b[1m100/100\u001b[0m \u001b[32m━━━━━━━━━━━━━━━━━━━━\u001b[0m\u001b[37m\u001b[0m \u001b[1m0s\u001b[0m 3ms/step - loss: 7166.9727 - mae: 68.0658 - val_loss: 3977.1104 - val_mae: 48.4601 - learning_rate: 0.0010\n",
      "Epoch 5/50\n",
      "\u001b[1m100/100\u001b[0m \u001b[32m━━━━━━━━━━━━━━━━━━━━\u001b[0m\u001b[37m\u001b[0m \u001b[1m0s\u001b[0m 3ms/step - loss: 3030.5049 - mae: 40.8025 - val_loss: 2384.2151 - val_mae: 35.5004 - learning_rate: 0.0010\n",
      "Epoch 6/50\n",
      "\u001b[1m100/100\u001b[0m \u001b[32m━━━━━━━━━━━━━━━━━━━━\u001b[0m\u001b[37m\u001b[0m \u001b[1m0s\u001b[0m 3ms/step - loss: 1775.0233 - mae: 30.2107 - val_loss: 1642.8832 - val_mae: 29.2544 - learning_rate: 0.0010\n",
      "Epoch 7/50\n",
      "\u001b[1m100/100\u001b[0m \u001b[32m━━━━━━━━━━━━━━━━━━━━\u001b[0m\u001b[37m\u001b[0m \u001b[1m0s\u001b[0m 3ms/step - loss: 1273.2456 - mae: 25.5663 - val_loss: 1280.0797 - val_mae: 26.3744 - learning_rate: 0.0010\n",
      "Epoch 8/50\n",
      "\u001b[1m100/100\u001b[0m \u001b[32m━━━━━━━━━━━━━━━━━━━━\u001b[0m\u001b[37m\u001b[0m \u001b[1m0s\u001b[0m 3ms/step - loss: 942.0584 - mae: 22.9187 - val_loss: 1114.8668 - val_mae: 25.0997 - learning_rate: 0.0010\n",
      "Epoch 9/50\n",
      "\u001b[1m100/100\u001b[0m \u001b[32m━━━━━━━━━━━━━━━━━━━━\u001b[0m\u001b[37m\u001b[0m \u001b[1m0s\u001b[0m 3ms/step - loss: 937.4446 - mae: 23.0687 - val_loss: 1027.1370 - val_mae: 24.4542 - learning_rate: 0.0010\n",
      "Epoch 10/50\n",
      "\u001b[1m100/100\u001b[0m \u001b[32m━━━━━━━━━━━━━━━━━━━━\u001b[0m\u001b[37m\u001b[0m \u001b[1m0s\u001b[0m 3ms/step - loss: 850.0748 - mae: 22.3722 - val_loss: 966.0770 - val_mae: 23.8488 - learning_rate: 0.0010\n",
      "Epoch 11/50\n",
      "\u001b[1m100/100\u001b[0m \u001b[32m━━━━━━━━━━━━━━━━━━━━\u001b[0m\u001b[37m\u001b[0m \u001b[1m0s\u001b[0m 3ms/step - loss: 901.1706 - mae: 22.9139 - val_loss: 929.2712 - val_mae: 23.4870 - learning_rate: 9.0000e-04\n",
      "Epoch 12/50\n",
      "\u001b[1m100/100\u001b[0m \u001b[32m━━━━━━━━━━━━━━━━━━━━\u001b[0m\u001b[37m\u001b[0m \u001b[1m0s\u001b[0m 3ms/step - loss: 748.2299 - mae: 21.1961 - val_loss: 904.4179 - val_mae: 23.3539 - learning_rate: 9.0000e-04\n",
      "Epoch 13/50\n",
      "\u001b[1m100/100\u001b[0m \u001b[32m━━━━━━━━━━━━━━━━━━━━\u001b[0m\u001b[37m\u001b[0m \u001b[1m0s\u001b[0m 3ms/step - loss: 792.7563 - mae: 21.7849 - val_loss: 864.2434 - val_mae: 22.7369 - learning_rate: 9.0000e-04\n",
      "Epoch 14/50\n",
      "\u001b[1m100/100\u001b[0m \u001b[32m━━━━━━━━━━━━━━━━━━━━\u001b[0m\u001b[37m\u001b[0m \u001b[1m0s\u001b[0m 3ms/step - loss: 759.0872 - mae: 21.3274 - val_loss: 841.9546 - val_mae: 22.5024 - learning_rate: 9.0000e-04\n",
      "Epoch 15/50\n",
      "\u001b[1m100/100\u001b[0m \u001b[32m━━━━━━━━━━━━━━━━━━━━\u001b[0m\u001b[37m\u001b[0m \u001b[1m0s\u001b[0m 3ms/step - loss: 700.6182 - mae: 20.6670 - val_loss: 818.1255 - val_mae: 22.1561 - learning_rate: 9.0000e-04\n",
      "Epoch 16/50\n",
      "\u001b[1m100/100\u001b[0m \u001b[32m━━━━━━━━━━━━━━━━━━━━\u001b[0m\u001b[37m\u001b[0m \u001b[1m0s\u001b[0m 3ms/step - loss: 689.5933 - mae: 20.2017 - val_loss: 800.8183 - val_mae: 21.9971 - learning_rate: 9.0000e-04\n",
      "Epoch 17/50\n",
      "\u001b[1m100/100\u001b[0m \u001b[32m━━━━━━━━━━━━━━━━━━━━\u001b[0m\u001b[37m\u001b[0m \u001b[1m0s\u001b[0m 3ms/step - loss: 642.4506 - mae: 19.8793 - val_loss: 764.8607 - val_mae: 21.4786 - learning_rate: 9.0000e-04\n",
      "Epoch 18/50\n",
      "\u001b[1m100/100\u001b[0m \u001b[32m━━━━━━━━━━━━━━━━━━━━\u001b[0m\u001b[37m\u001b[0m \u001b[1m0s\u001b[0m 3ms/step - loss: 646.9743 - mae: 19.7568 - val_loss: 743.9628 - val_mae: 21.1937 - learning_rate: 9.0000e-04\n",
      "Epoch 19/50\n",
      "\u001b[1m100/100\u001b[0m \u001b[32m━━━━━━━━━━━━━━━━━━━━\u001b[0m\u001b[37m\u001b[0m \u001b[1m0s\u001b[0m 3ms/step - loss: 602.1125 - mae: 19.0459 - val_loss: 713.5616 - val_mae: 20.8330 - learning_rate: 9.0000e-04\n",
      "Epoch 20/50\n",
      "\u001b[1m100/100\u001b[0m \u001b[32m━━━━━━━━━━━━━━━━━━━━\u001b[0m\u001b[37m\u001b[0m \u001b[1m0s\u001b[0m 3ms/step - loss: 574.0679 - mae: 18.9341 - val_loss: 686.8303 - val_mae: 20.3758 - learning_rate: 9.0000e-04\n",
      "Epoch 21/50\n",
      "\u001b[1m100/100\u001b[0m \u001b[32m━━━━━━━━━━━━━━━━━━━━\u001b[0m\u001b[37m\u001b[0m \u001b[1m0s\u001b[0m 3ms/step - loss: 574.5613 - mae: 18.5429 - val_loss: 665.8382 - val_mae: 20.1678 - learning_rate: 8.1000e-04\n",
      "Epoch 22/50\n",
      "\u001b[1m100/100\u001b[0m \u001b[32m━━━━━━━━━━━━━━━━━━━━\u001b[0m\u001b[37m\u001b[0m \u001b[1m0s\u001b[0m 3ms/step - loss: 531.8116 - mae: 18.1683 - val_loss: 640.7355 - val_mae: 19.7270 - learning_rate: 8.1000e-04\n",
      "Epoch 23/50\n",
      "\u001b[1m100/100\u001b[0m \u001b[32m━━━━━━━━━━━━━━━━━━━━\u001b[0m\u001b[37m\u001b[0m \u001b[1m0s\u001b[0m 3ms/step - loss: 486.4574 - mae: 17.3349 - val_loss: 617.3470 - val_mae: 19.4873 - learning_rate: 8.1000e-04\n",
      "Epoch 24/50\n",
      "\u001b[1m100/100\u001b[0m \u001b[32m━━━━━━━━━━━━━━━━━━━━\u001b[0m\u001b[37m\u001b[0m \u001b[1m0s\u001b[0m 3ms/step - loss: 461.1541 - mae: 16.7052 - val_loss: 583.8611 - val_mae: 18.8328 - learning_rate: 8.1000e-04\n",
      "Epoch 25/50\n",
      "\u001b[1m100/100\u001b[0m \u001b[32m━━━━━━━━━━━━━━━━━━━━\u001b[0m\u001b[37m\u001b[0m \u001b[1m0s\u001b[0m 3ms/step - loss: 441.2223 - mae: 16.4683 - val_loss: 557.8088 - val_mae: 18.3934 - learning_rate: 8.1000e-04\n",
      "Epoch 26/50\n",
      "\u001b[1m100/100\u001b[0m \u001b[32m━━━━━━━━━━━━━━━━━━━━\u001b[0m\u001b[37m\u001b[0m \u001b[1m0s\u001b[0m 3ms/step - loss: 420.6450 - mae: 16.1414 - val_loss: 529.1293 - val_mae: 17.7249 - learning_rate: 8.1000e-04\n",
      "Epoch 27/50\n",
      "\u001b[1m100/100\u001b[0m \u001b[32m━━━━━━━━━━━━━━━━━━━━\u001b[0m\u001b[37m\u001b[0m \u001b[1m0s\u001b[0m 3ms/step - loss: 402.4040 - mae: 15.6548 - val_loss: 491.1779 - val_mae: 17.1742 - learning_rate: 8.1000e-04\n",
      "Epoch 28/50\n",
      "\u001b[1m100/100\u001b[0m \u001b[32m━━━━━━━━━━━━━━━━━━━━\u001b[0m\u001b[37m\u001b[0m \u001b[1m0s\u001b[0m 3ms/step - loss: 372.3284 - mae: 15.0020 - val_loss: 466.0609 - val_mae: 16.7771 - learning_rate: 8.1000e-04\n",
      "Epoch 29/50\n",
      "\u001b[1m100/100\u001b[0m \u001b[32m━━━━━━━━━━━━━━━━━━━━\u001b[0m\u001b[37m\u001b[0m \u001b[1m0s\u001b[0m 3ms/step - loss: 357.0841 - mae: 14.7035 - val_loss: 428.1177 - val_mae: 15.9731 - learning_rate: 8.1000e-04\n",
      "Epoch 30/50\n",
      "\u001b[1m100/100\u001b[0m \u001b[32m━━━━━━━━━━━━━━━━━━━━\u001b[0m\u001b[37m\u001b[0m \u001b[1m0s\u001b[0m 3ms/step - loss: 302.0563 - mae: 13.5870 - val_loss: 390.2819 - val_mae: 15.2589 - learning_rate: 8.1000e-04\n",
      "Epoch 31/50\n",
      "\u001b[1m100/100\u001b[0m \u001b[32m━━━━━━━━━━━━━━━━━━━━\u001b[0m\u001b[37m\u001b[0m \u001b[1m0s\u001b[0m 3ms/step - loss: 261.5545 - mae: 12.7266 - val_loss: 359.8578 - val_mae: 14.5375 - learning_rate: 7.2900e-04\n",
      "Epoch 32/50\n",
      "\u001b[1m100/100\u001b[0m \u001b[32m━━━━━━━━━━━━━━━━━━━━\u001b[0m\u001b[37m\u001b[0m \u001b[1m0s\u001b[0m 3ms/step - loss: 271.5981 - mae: 12.7467 - val_loss: 328.9735 - val_mae: 13.9390 - learning_rate: 7.2900e-04\n",
      "Epoch 33/50\n",
      "\u001b[1m100/100\u001b[0m \u001b[32m━━━━━━━━━━━━━━━━━━━━\u001b[0m\u001b[37m\u001b[0m \u001b[1m0s\u001b[0m 3ms/step - loss: 222.0814 - mae: 11.7630 - val_loss: 297.2898 - val_mae: 13.0977 - learning_rate: 7.2900e-04\n",
      "Epoch 34/50\n",
      "\u001b[1m100/100\u001b[0m \u001b[32m━━━━━━━━━━━━━━━━━━━━\u001b[0m\u001b[37m\u001b[0m \u001b[1m0s\u001b[0m 3ms/step - loss: 208.9888 - mae: 11.1743 - val_loss: 267.5452 - val_mae: 12.5011 - learning_rate: 7.2900e-04\n",
      "Epoch 35/50\n",
      "\u001b[1m100/100\u001b[0m \u001b[32m━━━━━━━━━━━━━━━━━━━━\u001b[0m\u001b[37m\u001b[0m \u001b[1m0s\u001b[0m 3ms/step - loss: 177.6893 - mae: 10.3597 - val_loss: 241.7846 - val_mae: 11.8166 - learning_rate: 7.2900e-04\n",
      "Epoch 36/50\n",
      "\u001b[1m100/100\u001b[0m \u001b[32m━━━━━━━━━━━━━━━━━━━━\u001b[0m\u001b[37m\u001b[0m \u001b[1m0s\u001b[0m 3ms/step - loss: 147.9252 - mae: 9.5690 - val_loss: 216.1531 - val_mae: 11.1215 - learning_rate: 7.2900e-04\n",
      "Epoch 37/50\n",
      "\u001b[1m100/100\u001b[0m \u001b[32m━━━━━━━━━━━━━━━━━━━━\u001b[0m\u001b[37m\u001b[0m \u001b[1m0s\u001b[0m 3ms/step - loss: 133.2975 - mae: 9.0608 - val_loss: 196.0283 - val_mae: 10.6270 - learning_rate: 7.2900e-04\n",
      "Epoch 38/50\n",
      "\u001b[1m100/100\u001b[0m \u001b[32m━━━━━━━━━━━━━━━━━━━━\u001b[0m\u001b[37m\u001b[0m \u001b[1m0s\u001b[0m 3ms/step - loss: 130.3688 - mae: 8.8211 - val_loss: 180.3035 - val_mae: 10.1193 - learning_rate: 7.2900e-04\n",
      "Epoch 39/50\n",
      "\u001b[1m100/100\u001b[0m \u001b[32m━━━━━━━━━━━━━━━━━━━━\u001b[0m\u001b[37m\u001b[0m \u001b[1m0s\u001b[0m 3ms/step - loss: 121.4693 - mae: 8.4906 - val_loss: 169.9591 - val_mae: 9.8799 - learning_rate: 7.2900e-04\n",
      "Epoch 40/50\n",
      "\u001b[1m100/100\u001b[0m \u001b[32m━━━━━━━━━━━━━━━━━━━━\u001b[0m\u001b[37m\u001b[0m \u001b[1m0s\u001b[0m 3ms/step - loss: 114.5079 - mae: 8.3445 - val_loss: 159.6003 - val_mae: 9.5552 - learning_rate: 7.2900e-04\n",
      "Epoch 41/50\n",
      "\u001b[1m100/100\u001b[0m \u001b[32m━━━━━━━━━━━━━━━━━━━━\u001b[0m\u001b[37m\u001b[0m \u001b[1m0s\u001b[0m 3ms/step - loss: 101.4912 - mae: 7.7971 - val_loss: 150.8206 - val_mae: 9.2628 - learning_rate: 6.5610e-04\n",
      "Epoch 42/50\n",
      "\u001b[1m100/100\u001b[0m \u001b[32m━━━━━━━━━━━━━━━━━━━━\u001b[0m\u001b[37m\u001b[0m \u001b[1m0s\u001b[0m 3ms/step - loss: 95.8625 - mae: 7.4814 - val_loss: 149.2273 - val_mae: 9.1740 - learning_rate: 6.5610e-04\n",
      "Epoch 43/50\n",
      "\u001b[1m100/100\u001b[0m \u001b[32m━━━━━━━━━━━━━━━━━━━━\u001b[0m\u001b[37m\u001b[0m \u001b[1m0s\u001b[0m 3ms/step - loss: 96.3774 - mae: 7.6713 - val_loss: 138.0481 - val_mae: 8.8640 - learning_rate: 6.5610e-04\n",
      "Epoch 44/50\n",
      "\u001b[1m100/100\u001b[0m \u001b[32m━━━━━━━━━━━━━━━━━━━━\u001b[0m\u001b[37m\u001b[0m \u001b[1m0s\u001b[0m 3ms/step - loss: 98.8835 - mae: 7.5210 - val_loss: 136.3972 - val_mae: 8.7967 - learning_rate: 6.5610e-04\n",
      "Epoch 45/50\n",
      "\u001b[1m100/100\u001b[0m \u001b[32m━━━━━━━━━━━━━━━━━━━━\u001b[0m\u001b[37m\u001b[0m \u001b[1m0s\u001b[0m 3ms/step - loss: 84.6346 - mae: 7.1552 - val_loss: 128.4117 - val_mae: 8.4914 - learning_rate: 6.5610e-04\n",
      "Epoch 46/50\n",
      "\u001b[1m100/100\u001b[0m \u001b[32m━━━━━━━━━━━━━━━━━━━━\u001b[0m\u001b[37m\u001b[0m \u001b[1m0s\u001b[0m 3ms/step - loss: 81.0806 - mae: 7.1005 - val_loss: 125.9791 - val_mae: 8.4665 - learning_rate: 6.5610e-04\n",
      "Epoch 47/50\n",
      "\u001b[1m100/100\u001b[0m \u001b[32m━━━━━━━━━━━━━━━━━━━━\u001b[0m\u001b[37m\u001b[0m \u001b[1m0s\u001b[0m 3ms/step - loss: 79.7108 - mae: 6.9280 - val_loss: 119.9113 - val_mae: 8.2320 - learning_rate: 6.5610e-04\n",
      "Epoch 48/50\n",
      "\u001b[1m100/100\u001b[0m \u001b[32m━━━━━━━━━━━━━━━━━━━━\u001b[0m\u001b[37m\u001b[0m \u001b[1m0s\u001b[0m 3ms/step - loss: 74.3580 - mae: 6.6799 - val_loss: 117.8501 - val_mae: 8.1578 - learning_rate: 6.5610e-04\n",
      "Epoch 49/50\n",
      "\u001b[1m100/100\u001b[0m \u001b[32m━━━━━━━━━━━━━━━━━━━━\u001b[0m\u001b[37m\u001b[0m \u001b[1m0s\u001b[0m 3ms/step - loss: 67.0723 - mae: 6.4274 - val_loss: 112.8602 - val_mae: 8.0473 - learning_rate: 6.5610e-04\n",
      "Epoch 50/50\n",
      "\u001b[1m100/100\u001b[0m \u001b[32m━━━━━━━━━━━━━━━━━━━━\u001b[0m\u001b[37m\u001b[0m \u001b[1m0s\u001b[0m 3ms/step - loss: 72.7392 - mae: 6.7216 - val_loss: 107.7892 - val_mae: 7.8103 - learning_rate: 6.5610e-04\n"
     ]
    }
   ],
   "source": [
    "# Train the model\n",
    "history = model.fit(X_train, y_train, validation_split=0.2, epochs=50, batch_size=32, verbose=1, callbacks=[lr_scheduler])"
   ]
  },
  {
   "cell_type": "markdown",
   "id": "57d71890-7b46-4d46-927b-24adee169d4b",
   "metadata": {},
   "source": [
    " Evaluate your model on testing dataset (Classification or Regression)"
   ]
  },
  {
   "cell_type": "code",
   "execution_count": 39,
   "id": "2cbf8623-f058-418e-b9a4-e13cfc5cf805",
   "metadata": {},
   "outputs": [
    {
     "name": "stdout",
     "output_type": "stream",
     "text": [
      "Test Loss: 106.7763, Test MAE: 7.9037\n"
     ]
    }
   ],
   "source": [
    "# Evaluate the model on the test set\n",
    "test_loss, test_mae = model.evaluate(X_test, y_test, verbose=0)\n",
    "print(f\"Test Loss: {test_loss:.4f}, Test MAE: {test_mae:.4f}\")"
   ]
  },
  {
   "cell_type": "markdown",
   "id": "2dac41aa-3899-4f34-ab20-11a7abc2b0de",
   "metadata": {},
   "source": [
    " Use the model to make predictions on unseen examples"
   ]
  },
  {
   "cell_type": "code",
   "execution_count": 41,
   "id": "49b90ef6-2c32-4130-ada0-0c63025ef7c2",
   "metadata": {},
   "outputs": [
    {
     "name": "stdout",
     "output_type": "stream",
     "text": [
      "\u001b[1m32/32\u001b[0m \u001b[32m━━━━━━━━━━━━━━━━━━━━\u001b[0m\u001b[37m\u001b[0m \u001b[1m0s\u001b[0m 5ms/step\n",
      "R-squared: 0.9966\n",
      "Predictions on unseen data: [[270.8625 ]\n",
      " [200.30917]\n",
      " [209.42226]\n",
      " [117.29158]\n",
      " [371.9724 ]]\n",
      "Actual values: [261.93749802 204.56358184 202.61283455 124.46431794 350.26836241]\n"
     ]
    }
   ],
   "source": [
    "# Make predictions on the test set (unseen data)\n",
    "predictions = model.predict(X_test)\n",
    "\n",
    "r2 = r2_score(y_test, predictions)\n",
    "#predictions is y_predict\n",
    "\n",
    "print(f\"R-squared: {r2:.4f}\")\n",
    "\n",
    "\n",
    "# Print the first few predictions\n",
    "print(\"Predictions on unseen data:\", predictions[:5])\n",
    "\n",
    "# Optionally, you can compare the predictions with actual values (y_test)\n",
    "import numpy as np\n",
    "print(\"Actual values:\", y_test[:5].values)"
   ]
  },
  {
   "cell_type": "code",
   "execution_count": 43,
   "id": "c33a5404-9820-4ed9-90b6-3c6da2e124d5",
   "metadata": {},
   "outputs": [
    {
     "name": "stdout",
     "output_type": "stream",
     "text": [
      "Mean Absolute Error (MAE) on unseen data: 7.9037\n"
     ]
    }
   ],
   "source": [
    "#evaluate performance on unseen data using Mean Absolute Error (MAE)\n",
    "from sklearn.metrics import mean_absolute_error\n",
    "mae = mean_absolute_error(y_test, predictions)\n",
    "print(f\"Mean Absolute Error (MAE) on unseen data: {mae:.4f}\")"
   ]
  },
  {
   "cell_type": "markdown",
   "id": "ce7fafee-fc9b-490a-b842-12a497f9da5e",
   "metadata": {},
   "source": [
    " Do Feature Importance on your model"
   ]
  },
  {
   "cell_type": "code",
   "execution_count": 45,
   "id": "d36d1320-d42a-46cb-b2fb-823ab9592fc8",
   "metadata": {},
   "outputs": [
    {
     "name": "stdout",
     "output_type": "stream",
     "text": [
      "\u001b[1m32/32\u001b[0m \u001b[32m━━━━━━━━━━━━━━━━━━━━\u001b[0m\u001b[37m\u001b[0m \u001b[1m0s\u001b[0m 2ms/step\n",
      "                      Feature    Importance\n",
      "0         Number_of_Residents  51719.535955\n",
      "7               Season_Summer   7410.696133\n",
      "6               Season_Winter   2432.268607\n",
      "3        Is_Meter_Functioning   1826.528855\n",
      "5   Water_Saving_Tips_Adopted   1430.425763\n",
      "10       Day_of_week_Saturday   1362.373346\n",
      "16         Day_of_week_Friday   1235.527189\n",
      "8               Season_Spring    585.238651\n",
      "9               Season_Autumn    513.319549\n",
      "18          Income_Level_High    383.867115\n",
      "15       Day_of_week_Thursday    268.363840\n",
      "12         Day_of_week_Monday    239.659566\n",
      "11         Day_of_week_Sunday    215.370882\n",
      "14      Day_of_week_Wednesday    211.679959\n",
      "13        Day_of_week_Tuesday    203.441571\n",
      "19        Income_Level_Medium     53.424500\n",
      "17           Income_Level_Low     52.620368\n",
      "1         Average_Temperature      0.732334\n",
      "2                Rainfall(mm)      0.376443\n",
      "4    Building_Area(sq_meters)     -0.713325\n"
     ]
    }
   ],
   "source": [
    "from sklearn.inspection import permutation_importance\n",
    "from sklearn.metrics import mean_squared_error\n",
    "\n",
    "# Define a custom scoring function for the Keras model\n",
    "def custom_scorer(model, X, y):\n",
    "    # Predict using the model\n",
    "    y_pred = model.predict(X)\n",
    "    # Calculate mean squared error (for regression)\n",
    "    return -mean_squared_error(y, y_pred)\n",
    "\n",
    "# Perform permutation importance on the trained model\n",
    "result = permutation_importance(model, X_test, y_test, n_repeats=10, random_state=42, n_jobs=-1, scoring=custom_scorer)\n",
    "\n",
    "# Get importance scores\n",
    "importance_scores = result.importances_mean\n",
    "\n",
    "# Create a DataFrame to display feature importance\n",
    "feature_importance_df = pd.DataFrame({\n",
    "    'Feature': X.columns,\n",
    "    'Importance': importance_scores\n",
    "})\n",
    "\n",
    "# Sort the features based on importance\n",
    "feature_importance_df = feature_importance_df.sort_values(by='Importance', ascending=False)\n",
    "\n",
    "# Print the feature importance\n",
    "print(feature_importance_df)\n"
   ]
  },
  {
   "cell_type": "code",
   "execution_count": null,
   "id": "e62c6681-86fd-4492-ab62-521218afb1de",
   "metadata": {},
   "outputs": [],
   "source": [
    "pip install keras-tuner\n"
   ]
  },
  {
   "cell_type": "code",
   "execution_count": 47,
   "id": "fe0052e4-32e4-4c99-8725-5a9bcb350d37",
   "metadata": {},
   "outputs": [],
   "source": [
    "#create a model-building function that accepts hyperparameters as arguments.\n",
    "import keras_tuner as kt\n",
    "from tensorflow.keras.models import Sequential\n",
    "from tensorflow.keras.layers import Dense, Input\n",
    "from tensorflow.keras.optimizers import Adam\n",
    "\n",
    "# Define the model-building function for hyperparameter tuning\n",
    "def build_model(hp):\n",
    "    model = Sequential([\n",
    "        Input(shape=(X_train.shape[1],)),  # Specify input shape here\n",
    "        Dense(units=hp.Int('units_1', min_value=32, max_value=128, step=32), activation='relu'),  # First layer with tunable units\n",
    "        Dense(units=hp.Int('units_2', min_value=16, max_value=64, step=16), activation='relu'),  # Second layer with tunable units\n",
    "        Dense(1, activation='linear')  # Output layer for regression\n",
    "    ])\n",
    "    \n",
    "    # Tune the learning rate for the Adam optimizer\n",
    "    model.compile(optimizer=Adam(learning_rate=hp.Float('learning_rate', min_value=1e-5, max_value=1e-2, sampling='LOG')),\n",
    "                  loss='mean_squared_error', \n",
    "                  metrics=['mae'])\n",
    "    \n",
    "    return model\n"
   ]
  },
  {
   "cell_type": "markdown",
   "id": "ab4312f0-b2b9-4b1f-983e-77b569bb8f29",
   "metadata": {},
   "source": [
    " Perform hyperparameter tuning and provide an explanation of the new results"
   ]
  },
  {
   "cell_type": "code",
   "execution_count": 49,
   "id": "b3246728-f012-40e8-aa31-c5bec4f38783",
   "metadata": {},
   "outputs": [
    {
     "name": "stdout",
     "output_type": "stream",
     "text": [
      "Reloading Tuner from my_dir\\water_consumption_model\\tuner0.json\n"
     ]
    }
   ],
   "source": [
    "# Initialize the tuner\n",
    "tuner = kt.Hyperband(\n",
    "    build_model,\n",
    "    objective='val_loss',  # We're optimizing for validation loss\n",
    "    max_epochs=10,  # Maximum number of epochs to run for each trial\n",
    "    factor=3,  # Reduces the number of trials in each iteration by a factor of 3\n",
    "    directory='my_dir',  # Directory where results will be stored\n",
    "    project_name='water_consumption_model'  # Project name\n",
    ")\n",
    "\n",
    "# Search for the best hyperparameters\n",
    "tuner.search(X_train, y_train, epochs=10, validation_data=(X_test, y_test))"
   ]
  },
  {
   "cell_type": "code",
   "execution_count": 87,
   "id": "a4c30ae8-ef5e-4986-987e-741ef344ce56",
   "metadata": {},
   "outputs": [
    {
     "name": "stdout",
     "output_type": "stream",
     "text": [
      "Best Hyperparameters: \n",
      "Units in first layer: 128\n",
      "Units in second layer: 64\n",
      "Learning Rate: 0.00587414640335334\n",
      "Test Loss of the best model: 73.1035\n",
      "Test MAE of the best model: 6.7309\n",
      "\u001b[1m32/32\u001b[0m \u001b[32m━━━━━━━━━━━━━━━━━━━━\u001b[0m\u001b[37m\u001b[0m \u001b[1m0s\u001b[0m 2ms/step\n",
      "R-squared (Accuracy): 0.9977\n",
      "\n",
      "Comparison of Predictions and Actual Values:\n",
      "First few predictions:  [270.4677 210.0337 208.5647 127.3292 360.8112]\n",
      "First few actual values:  [261.93749802 204.56358184 202.61283455 124.46431794 350.26836241]\n"
     ]
    }
   ],
   "source": [
    "\n",
    "\n",
    "from sklearn.metrics import r2_score\n",
    "from tensorflow.keras.models import load_model\n",
    "from tensorflow.keras.optimizers import Adam\n",
    "import numpy as np\n",
    "\n",
    "\n",
    "# # Load the best model without the optimizer state\n",
    "# best_model = tuner.get_best_models(num_models=1)[0]\n",
    "\n",
    "# Get the best hyperparameters\n",
    "best_hyperparameters = tuner.get_best_hyperparameters(num_trials=1)[0]\n",
    "\n",
    "# Print the best hyperparameters\n",
    "print(\"Best Hyperparameters: \")\n",
    "print(f\"Units in first layer: {best_hyperparameters.get('units_1')}\")\n",
    "print(f\"Units in second layer: {best_hyperparameters.get('units_2')}\")\n",
    "print(f\"Learning Rate: {best_hyperparameters.get('learning_rate')}\")\n",
    "\n",
    "# Initialize a fresh optimizer\n",
    "optimizer = Adam(learning_rate=best_hyperparameters.get('learning_rate'))\n",
    "\n",
    "# Recompile the model with the new optimizer\n",
    "best_model.compile(optimizer=optimizer, loss='mse', metrics=['mae'])\n",
    "\n",
    "# Evaluate the model on the test set\n",
    "test_loss, test_mae = best_model.evaluate(X_test, y_test, verbose=0)\n",
    "print(f\"Test Loss of the best model: {test_loss:.4f}\")\n",
    "print(f\"Test MAE of the best model: {test_mae:.4f}\")\n",
    "\n",
    "# Predict values using the best model\n",
    "y_pred = best_model.predict(X_test)\n",
    "\n",
    "# Calculate R-squared score\n",
    "r2 = r2_score(y_test, y_pred)\n",
    "print(f\"R-squared (Accuracy): {r2:.4f}\")\n",
    "\n",
    "# Optionally: Compare predictions with actual values\n",
    "print(\"\\nComparison of Predictions and Actual Values:\")\n",
    "print(\"First few predictions: \", np.round(y_pred[:5].flatten(), 4))\n",
    "print(\"First few actual values: \", y_test[:5].values)\n"
   ]
  },
  {
   "cell_type": "code",
   "execution_count": 71,
   "id": "d4098057-cca1-4891-a0ae-52ca123aed96",
   "metadata": {
    "collapsed": true,
    "jupyter": {
     "outputs_hidden": true,
     "source_hidden": true
    },
    "scrolled": true
   },
   "outputs": [
    {
     "name": "stdout",
     "output_type": "stream",
     "text": [
      "Test Loss: 73.1035\n",
      "Test Mean Absolute Error (MAE): 6.7309\n",
      "\u001b[1m32/32\u001b[0m \u001b[32m━━━━━━━━━━━━━━━━━━━━\u001b[0m\u001b[37m\u001b[0m \u001b[1m0s\u001b[0m 3ms/step\n",
      "R-squared (Accuracy): 0.9977\n"
     ]
    }
   ],
   "source": [
    "from tensorflow.keras.optimizers import Adam\n",
    "\n",
    "# Example of a custom optimizer\n",
    "# optimizer = Adam(learning_rate=0.001)  \n",
    "\n",
    "# # Recompile the model with the custom optimizer\n",
    "# best_model.compile(optimizer=optimizer, loss='mse', metrics=['mae'])\n",
    "\n",
    "# # Evaluate the model\n",
    "# test_loss, test_mae = best_model.evaluate(X_test, y_test, verbose=0)\n",
    "# print(f\"Test Loss: {test_loss:.4f}, Test MAE: {test_mae:.4f}\")\n",
    "\n",
    "# # Predict values using the best model\n",
    "# y_pred = best_model.predict(X_test)\n",
    "\n",
    "# # Calculate R-squared score\n",
    "# r2 = r2_score(y_test, y_pred)\n",
    "# print(f\"R-squared (Accuracy): {r2:.4f}\")\n",
    "\n",
    "\n",
    "optimizer = Adam(learning_rate=0.001)\n",
    "\n",
    "# Recompile the best model with the custom optimizer\n",
    "best_model.compile(optimizer=optimizer, loss='mse', metrics=['mae'])\n",
    "\n",
    "# Evaluate the model to get test loss and MAE\n",
    "test_loss, test_mae = best_model.evaluate(X_test, y_test, verbose=0)\n",
    "print(f\"Test Loss: {test_loss:.4f}\")\n",
    "print(f\"Test Mean Absolute Error (MAE): {test_mae:.4f}\")\n",
    "\n",
    "# Predict values using the best model\n",
    "y_pred = best_model.predict(X_test)\n",
    "\n",
    "r2 = r2_score(y_test, y_pred)\n",
    "print(f\"R-squared (Accuracy): {r2:.4f}\")\n",
    "\n",
    "# from tensorflow.keras.optimizers import Adam\n",
    "\n",
    "# # Load the best model\n",
    "# best_model = tuner.get_best_models(num_models=1)[0]\n",
    "\n",
    "# # Recompile the model to reset the optimizer state\n",
    "# best_model.compile(optimizer=Adam(), loss='mse', metrics=['mae'])\n",
    "\n",
    "# # Evaluate the model\n",
    "# test_loss, test_mae = best_model.evaluate(X_test, y_test, verbose=0)\n",
    "# print(f\"Test Loss: {test_loss:.4f}, Test MAE: {test_mae:.4f}\")"
   ]
  },
  {
   "cell_type": "code",
   "execution_count": 89,
   "id": "b3e046f3-18bc-4a15-82d6-7db663dfd03d",
   "metadata": {
    "collapsed": true,
    "jupyter": {
     "outputs_hidden": true,
     "source_hidden": true
    }
   },
   "outputs": [
    {
     "name": "stdout",
     "output_type": "stream",
     "text": [
      "Best hyperparameters: {'units_1': 128, 'units_2': 64, 'learning_rate': 0.00587414640335334, 'tuner/epochs': 10, 'tuner/initial_epoch': 4, 'tuner/bracket': 1, 'tuner/round': 1, 'tuner/trial_id': '0020'}\n"
     ]
    }
   ],
   "source": [
    "#print best hyper\n",
    "best_hyperparameters = tuner.get_best_hyperparameters(num_trials=1)[0]\n",
    "print(f\"Best hyperparameters: {best_hyperparameters.values}\")"
   ]
  },
  {
   "cell_type": "markdown",
   "id": "3bb89877-1067-4a69-b41b-fa9aaab6b872",
   "metadata": {},
   "source": [
    " Visualize weights and biases after training"
   ]
  },
  {
   "cell_type": "code",
   "execution_count": 91,
   "id": "5ab09520-5ed3-4357-90cf-5b81e817661e",
   "metadata": {
    "collapsed": true,
    "jupyter": {
     "outputs_hidden": true,
     "source_hidden": true
    }
   },
   "outputs": [
    {
     "data": {
      "image/png": "[encoded data removed]",
      "text/plain": [
       "<Figure size 1200x600 with 3 Axes>"
      ]
     },
     "metadata": {},
     "output_type": "display_data"
    },
    {
     "data": {
      "image/png": "[encoded data removed]",
      "text/plain": [
       "<Figure size 1200x600 with 3 Axes>"
      ]
     },
     "metadata": {},
     "output_type": "display_data"
    }
   ],
   "source": [
    "import matplotlib.pyplot as plt\n",
    "import numpy as np\n",
    "\n",
    "# Get the weights and biases of the model\n",
    "weights = [layer.get_weights()[0] for layer in model.layers if len(layer.get_weights()) > 0]\n",
    "biases = [layer.get_weights()[1] for layer in model.layers if len(layer.get_weights()) > 1]\n",
    "\n",
    "# Visualize the weights\n",
    "plt.figure(figsize=(12, 6))\n",
    "\n",
    "# For each layer's weights, create a subplot\n",
    "for i, weight in enumerate(weights):\n",
    "    plt.subplot(1, len(weights), i+1)\n",
    "    plt.hist(weight.flatten(), bins=50)\n",
    "    plt.title(f'Layer {i+1} Weights')\n",
    "\n",
    "plt.tight_layout()\n",
    "plt.show()\n",
    "\n",
    "# Visualize the biases\n",
    "plt.figure(figsize=(12, 6))\n",
    "\n",
    "# For each layer's biases, create a subplot\n",
    "for i, bias in enumerate(biases):\n",
    "    plt.subplot(1, len(biases), i+1)\n",
    "    plt.hist(bias.flatten(), bins=50)\n",
    "    plt.title(f'Layer {i+1} Biases')\n",
    "\n",
    "plt.tight_layout()\n",
    "plt.show()\n"
   ]
  },
  {
   "cell_type": "code",
   "execution_count": 93,
   "id": "4782a95c-1f1d-4218-b3d0-991a47f6f595",
   "metadata": {},
   "outputs": [
    {
     "data": {
      "image/png": "[encoded data removed]",
      "text/plain": [
       "<Figure size 1000x500 with 2 Axes>"
      ]
     },
     "metadata": {},
     "output_type": "display_data"
    },
    {
     "data": {
      "image/png": "[encoded data removed]",
      "text/plain": [
       "<Figure size 1000x500 with 2 Axes>"
      ]
     },
     "metadata": {},
     "output_type": "display_data"
    }
   ],
   "source": [
    "import matplotlib.pyplot as plt\n",
    "import numpy as np\n",
    "\n",
    "# Get the weights and biases of the trained model\n",
    "weights = best_model.get_weights()\n",
    "\n",
    "# Visualize the weights of the first Dense layer\n",
    "plt.figure(figsize=(10, 5))\n",
    "plt.subplot(1, 2, 1)\n",
    "plt.title(\"Weights of First Layer\")\n",
    "plt.hist(weights[0].flatten(), bins=50)  # weights[0] is the weight matrix of the first layer\n",
    "plt.xlabel('Weight Values')\n",
    "plt.ylabel('Frequency')\n",
    "\n",
    "# Visualize the biases of the first Dense layer\n",
    "plt.subplot(1, 2, 2)\n",
    "plt.title(\"Biases of First Layer\")\n",
    "plt.hist(weights[1].flatten(), bins=50)  # weights[1] is the bias vector of the first layer\n",
    "plt.xlabel('Bias Values')\n",
    "plt.ylabel('Frequency')\n",
    "\n",
    "plt.tight_layout()\n",
    "plt.show()\n",
    "\n",
    "# Visualize the weights of the second Dense layer\n",
    "plt.figure(figsize=(10, 5))\n",
    "plt.subplot(1, 2, 1)\n",
    "plt.title(\"Weights of Second Layer\")\n",
    "plt.hist(weights[2].flatten(), bins=50)  # weights[2] is the weight matrix of the second layer\n",
    "plt.xlabel('Weight Values')\n",
    "plt.ylabel('Frequency')\n",
    "\n",
    "# Visualize the biases of the second Dense layer\n",
    "plt.subplot(1, 2, 2)\n",
    "plt.title(\"Biases of Second Layer\")\n",
    "plt.hist(weights[3].flatten(), bins=50)  # weights[3] is the bias vector of the second layer\n",
    "plt.xlabel('Bias Values')\n",
    "plt.ylabel('Frequency')\n",
    "\n",
    "plt.tight_layout()\n",
    "plt.show()\n"
   ]
  },
  {
   "cell_type": "code",
   "execution_count": null,
   "id": "3891137b-b05e-42df-8073-32ce4e1965f7",
   "metadata": {},
   "outputs": [],
   "source": []
  }
 ],
 "metadata": {
  "kernelspec": {
   "display_name": "Python 3 (ipykernel)",
   "language": "python",
   "name": "python3"
  },
  "language_info": {
   "codemirror_mode": {
    "name": "ipython",
    "version": 3
   },
   "file_extension": ".py",
   "mimetype": "text/x-python",
   "name": "python",
   "nbconvert_exporter": "python",
   "pygments_lexer": "ipython3",
   "version": "3.12.7"
  }
 },
 "nbformat": 4,
 "nbformat_minor": 5
}
